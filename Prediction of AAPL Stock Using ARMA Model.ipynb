{
 "cells": [
  {
   "cell_type": "markdown",
   "source": [
    "pip install sklearn"
   ],
   "metadata": {
    "collapsed": false
   },
   "id": "26a84fe7975c85b7"
  },
  {
   "cell_type": "code",
   "outputs": [
    {
     "name": "stdout",
     "output_type": "stream",
     "text": [
      "---------------------ARMA(2, 2)-------------------------\n",
      "f1_score 0.3050847457627119\n",
      "Accuracy 0.43902439024390244\n",
      "---------------------ARMA(2, 3)-------------------------\n",
      "f1_score 0.36701754385964913\n",
      "Accuracy 0.4634146341463415\n",
      "---------------------ARMA(2, 4)-------------------------\n",
      "f1_score 0.3451641526175688\n",
      "Accuracy 0.45121951219512196\n",
      "---------------------ARMA(2, 5)-------------------------\n",
      "f1_score 0.3225574712643678\n",
      "Accuracy 0.43902439024390244\n",
      "---------------------ARMA(2, 6)-------------------------\n",
      "f1_score 0.3225574712643678\n",
      "Accuracy 0.43902439024390244\n",
      "---------------------ARMA(3, 2)-------------------------\n",
      "f1_score 0.4386904761904762\n",
      "Accuracy 0.43902439024390244\n",
      "---------------------ARMA(3, 3)-------------------------\n",
      "f1_score 0.412700939041859\n",
      "Accuracy 0.45121951219512196\n",
      "---------------------ARMA(3, 4)-------------------------\n",
      "f1_score 0.3451641526175688\n",
      "Accuracy 0.45121951219512196\n",
      "---------------------ARMA(3, 5)-------------------------\n",
      "f1_score 0.3225574712643678\n",
      "Accuracy 0.43902439024390244\n",
      "---------------------ARMA(3, 6)-------------------------\n",
      "f1_score 0.3225574712643678\n",
      "Accuracy 0.43902439024390244\n",
      "---------------------ARMA(4, 2)-------------------------\n",
      "f1_score 0.47553175665625463\n",
      "Accuracy 0.47560975609756095\n",
      "---------------------ARMA(4, 3)-------------------------\n",
      "f1_score 0.49992562843968463\n",
      "Accuracy 0.5\n",
      "---------------------ARMA(4, 4)-------------------------\n",
      "f1_score 0.4826896445607016\n",
      "Accuracy 0.5\n",
      "---------------------ARMA(4, 5)-------------------------\n",
      "f1_score 0.37276899541050484\n",
      "Accuracy 0.45121951219512196\n",
      "---------------------ARMA(4, 6)-------------------------\n",
      "f1_score 0.3804945054945055\n",
      "Accuracy 0.4634146341463415\n",
      "---------------------ARMA(5, 2)-------------------------\n",
      "f1_score 0.4875\n",
      "Accuracy 0.4878048780487805\n",
      "---------------------ARMA(5, 3)-------------------------\n",
      "f1_score 0.49992562843968463\n",
      "Accuracy 0.5\n",
      "---------------------ARMA(5, 4)-------------------------\n",
      "f1_score 0.4554079696394687\n",
      "Accuracy 0.4878048780487805\n",
      "---------------------ARMA(5, 5)-------------------------\n",
      "f1_score 0.39551282051282055\n",
      "Accuracy 0.43902439024390244\n",
      "---------------------ARMA(5, 6)-------------------------\n",
      "f1_score 0.43880311952888745\n",
      "Accuracy 0.47560975609756095\n",
      "---------------------ARMA(6, 2)-------------------------\n",
      "f1_score 0.35970848516397713\n",
      "Accuracy 0.45121951219512196\n",
      "---------------------ARMA(6, 3)-------------------------\n",
      "f1_score 0.35970848516397713\n",
      "Accuracy 0.45121951219512196\n",
      "---------------------ARMA(6, 4)-------------------------\n",
      "f1_score 0.4473039215686274\n",
      "Accuracy 0.4634146341463415\n",
      "---------------------ARMA(6, 5)-------------------------\n",
      "f1_score 0.4473039215686274\n",
      "Accuracy 0.4634146341463415\n",
      "---------------------ARMA(6, 6)-------------------------\n",
      "f1_score 0.5110316040548598\n",
      "Accuracy 0.5121951219512195\n"
     ]
    }
   ],
   "source": [
    "import numpy as np\n",
    "import statsmodels.api as sm\n",
    "from sklearn.metrics import f1_score, accuracy_score\n",
    "import matplotlib.pyplot as plt\n",
    "import pandas as pd\n",
    "import warnings\n",
    "warnings.filterwarnings('ignore')\n",
    "def generate_directional_labels(prices):\n",
    "\n",
    "    price_changes = np.diff(prices)\n",
    "    labels = np.sign(price_changes) \n",
    "    return labels\n",
    "\n",
    "\n",
    "\n",
    "\n",
    "AAPL_Test_Data = pd.read_csv('AAPL_Test_Data.csv')\n",
    "AAPL_Train_Data = pd.read_csv('AAPL_Train_Data.csv')\n",
    "Test_Real_labels = generate_directional_labels(AAPL_Test_Data['Close'].to_numpy())\n",
    "\n",
    "\n",
    "for p in range(2,7):\n",
    "    for q in range(2,7):\n",
    "        model = sm.tsa.ARIMA(AAPL_Train_Data['Close'].to_numpy(), order=(p,0,q))\n",
    "        arima_results = model.fit()\n",
    "        forecast_steps = AAPL_Test_Data.__len__()\n",
    "        future_values = arima_results.get_forecast(steps=forecast_steps).predicted_mean\n",
    "        Predicted_lables = generate_directional_labels(future_values)\n",
    "        print(f'---------------------ARMA{p,q}-------------------------')\n",
    "        print('f1_score',f1_score(Test_Real_labels,Predicted_lables,average='macro'))\n",
    "        print('Accuracy',accuracy_score(Test_Real_labels,Predicted_lables))\n",
    "\n",
    "\n",
    "\n"
   ],
   "metadata": {
    "collapsed": false,
    "ExecuteTime": {
     "end_time": "2024-03-04T21:14:28.401408800Z",
     "start_time": "2024-03-04T21:13:30.629220200Z"
    }
   },
   "id": "38312934069b84fe",
   "execution_count": 16
  },
  {
   "cell_type": "code",
   "outputs": [],
   "source": [],
   "metadata": {
    "collapsed": false
   },
   "id": "98faa45172ea17ba"
  }
 ],
 "metadata": {
  "kernelspec": {
   "display_name": "Python 3",
   "language": "python",
   "name": "python3"
  },
  "language_info": {
   "codemirror_mode": {
    "name": "ipython",
    "version": 2
   },
   "file_extension": ".py",
   "mimetype": "text/x-python",
   "name": "python",
   "nbconvert_exporter": "python",
   "pygments_lexer": "ipython2",
   "version": "2.7.6"
  }
 },
 "nbformat": 4,
 "nbformat_minor": 5
}
